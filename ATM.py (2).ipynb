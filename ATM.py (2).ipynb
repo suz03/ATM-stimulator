{
 "cells": [
  {
   "cell_type": "code",
   "execution_count": null,
   "id": "852610c3",
   "metadata": {},
   "outputs": [],
   "source": []
  },
  {
   "cell_type": "code",
   "execution_count": null,
   "id": "2e17be35",
   "metadata": {},
   "outputs": [
    {
     "name": "stdout",
     "output_type": "stream",
     "text": [
      "\n",
      "                    HELLO, how would you like to proceed?\n",
      "                     1. Enter 1 to create PIN\n",
      "                     2. Enter 2 to deposit \n",
      "                     3. Enter 3 to withdrawal\n",
      "                     4. Enter 4 to check Balance \n",
      "                     5. Enter 5 to exit\n",
      "2\n",
      "Enter your PIN: 2365\n",
      "Invalid PIN\n",
      "\n",
      "                    HELLO, how would you like to proceed?\n",
      "                     1. Enter 1 to create PIN\n",
      "                     2. Enter 2 to deposit \n",
      "                     3. Enter 3 to withdrawal\n",
      "                     4. Enter 4 to check Balance \n",
      "                     5. Enter 5 to exit\n",
      "2\n",
      "Enter your PIN: 1234\n",
      "Invalid PIN\n"
     ]
    }
   ],
   "source": [
    "class Atm:\n",
    "    \n",
    "    def __init__(self):\n",
    "        self.pin = \"\"\n",
    "        self.balance = 0\n",
    "        self.menu()\n",
    "        \n",
    "    def menu(self):\n",
    "        while True:  # Add a loop to keep the menu running until an exit option is chosen.\n",
    "            user_input = input('''\n",
    "                    HELLO, how would you like to proceed?\n",
    "                     1. Enter 1 to create PIN\n",
    "                     2. Enter 2 to deposit \n",
    "                     3. Enter 3 to withdrawal\n",
    "                     4. Enter 4 to check Balance \n",
    "                     5. Enter 5 to exit\n",
    "''')\n",
    "            if user_input == \"1\":\n",
    "                self.create_pin()\n",
    "            elif user_input == \"2\":\n",
    "                self.deposit()\n",
    "            elif user_input == '3':\n",
    "                self.withdrawal()\n",
    "            elif user_input == '4':\n",
    "                self.check_balance()\n",
    "            elif user_input == '5':\n",
    "                print(\"Thank you for using.\")\n",
    "                break  # Exit the loop when '5' is chosen.\n",
    "            else:\n",
    "                print(\"Invalid input. Please select a valid option.\")\n",
    "\n",
    "    def create_pin(self):\n",
    "        self.pin = input(\"Enter your new PIN: \")\n",
    "        print('PIN set successfully')\n",
    "\n",
    "    def deposit(self):\n",
    "        temp = input(\"Enter your PIN: \")\n",
    "        if temp == self.pin:\n",
    "            amount = int(input(\"Enter the amount to deposit: \"))\n",
    "            self.balance += amount\n",
    "            print(\"Deposit successful. Your new balance is:\", self.balance)\n",
    "        else:\n",
    "            print(\"Invalid PIN\")\n",
    "\n",
    "    def withdrawal(self):\n",
    "        temp = input(\"Enter your PIN: \")\n",
    "        if temp == self.pin:\n",
    "            amount = int(input(\"Enter the amount to withdraw: \"))\n",
    "            if amount <= self.balance:\n",
    "                self.balance -= amount\n",
    "                print(\"Transaction successful. Your new balance is:\", self.balance)\n",
    "            else:\n",
    "                print(\"Insufficient funds in your account\")\n",
    "        else:\n",
    "            print(\"Invalid PIN\")\n",
    "\n",
    "    def check_balance(self):\n",
    "        temp = input(\"Enter your PIN: \")\n",
    "        if temp == self.pin:\n",
    "            print(\"Your balance is:\", self.balance)\n",
    "        else:\n",
    "            print(\"Invalid PIN\")\n",
    "\n",
    "if __name__ == \"__main__\":\n",
    "    atm = Atm()\n"
   ]
  },
  {
   "cell_type": "code",
   "execution_count": null,
   "id": "3b516dc6",
   "metadata": {},
   "outputs": [],
   "source": []
  },
  {
   "cell_type": "code",
   "execution_count": null,
   "id": "1e6e2732",
   "metadata": {},
   "outputs": [],
   "source": []
  },
  {
   "cell_type": "code",
   "execution_count": null,
   "id": "91536276",
   "metadata": {},
   "outputs": [],
   "source": []
  }
 ],
 "metadata": {
  "kernelspec": {
   "display_name": "Python 3 (ipykernel)",
   "language": "python",
   "name": "python3"
  },
  "language_info": {
   "codemirror_mode": {
    "name": "ipython",
    "version": 3
   },
   "file_extension": ".py",
   "mimetype": "text/x-python",
   "name": "python",
   "nbconvert_exporter": "python",
   "pygments_lexer": "ipython3",
   "version": "3.11.3"
  }
 },
 "nbformat": 4,
 "nbformat_minor": 5
}
